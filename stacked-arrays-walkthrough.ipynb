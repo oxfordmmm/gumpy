{
 "cells": [
  {
   "cell_type": "code",
   "execution_count": 1,
   "id": "meaning-error",
   "metadata": {},
   "outputs": [],
   "source": [
    "import gumpy\n",
    "\n",
    "import numpy, time, copy\n",
    "\n",
    "%load_ext autoreload\n",
    "%autoreload 2"
   ]
  },
  {
   "cell_type": "markdown",
   "id": "olympic-charter",
   "metadata": {},
   "source": [
    "Let's be topical and use the SARS-CoV-2 Wuhan reference genome"
   ]
  },
  {
   "cell_type": "code",
   "execution_count": 359,
   "id": "naughty-impact",
   "metadata": {},
   "outputs": [
    {
     "name": "stderr",
     "output_type": "stream",
     "text": [
      "100%|██████████| 57/57 [00:00<00:00, 208617.21it/s]\n",
      "100%|██████████| 12/12 [00:00<00:00, 1079.06it/s]\n",
      "100%|██████████| 10/10 [00:00<00:00, 245.97it/s]\n",
      "100%|██████████| 12/12 [00:00<00:00, 270.50it/s]"
     ]
    },
    {
     "name": "stdout",
     "output_type": "stream",
     "text": [
      "       parse genbank  0.023 s\n",
      "       define arrays  0.014 s\n",
      "            promoter  0.043 s\n",
      "        create genes  0.046 s\n"
     ]
    },
    {
     "name": "stderr",
     "output_type": "stream",
     "text": [
      "\n"
     ]
    }
   ],
   "source": [
    "covid=gumpy.Genome('config/NC_045512.2.gbk',verbose=True, default_promoter_length=10)"
   ]
  },
  {
   "cell_type": "markdown",
   "id": "significant-hostel",
   "metadata": {},
   "source": [
    "The `covid` Genome object has pretty print since `__repr__` is overloaded"
   ]
  },
  {
   "cell_type": "code",
   "execution_count": 325,
   "id": "scenic-pickup",
   "metadata": {},
   "outputs": [
    {
     "name": "stdout",
     "output_type": "stream",
     "text": [
      "NC_045512\n",
      "NC_045512.2\n",
      "Severe acute respiratory syndrome coronavirus 2 isolate Wuhan-Hu-1, complete genome\n",
      "29903 bases\n",
      "attaaa...aaaaaa\n",
      "all genes/loci have been included\n",
      "\n"
     ]
    }
   ],
   "source": [
    "print(covid)"
   ]
  },
  {
   "cell_type": "markdown",
   "id": "egyptian-testament",
   "metadata": {},
   "source": [
    "Much of this information it has parsed from the annotations the GenBank file"
   ]
  },
  {
   "cell_type": "code",
   "execution_count": 326,
   "id": "funny-publisher",
   "metadata": {},
   "outputs": [
    {
     "data": {
      "text/plain": [
       "{'molecule_type': 'ss-RNA',\n",
       " 'topology': 'linear',\n",
       " 'data_file_division': 'VRL',\n",
       " 'date': '18-JUL-2020',\n",
       " 'accessions': ['NC_045512'],\n",
       " 'sequence_version': 2,\n",
       " 'keywords': ['RefSeq'],\n",
       " 'source': 'Severe acute respiratory syndrome coronavirus 2 (SARS-CoV-2)',\n",
       " 'organism': 'Severe acute respiratory syndrome coronavirus 2',\n",
       " 'taxonomy': ['Viruses',\n",
       "  'Riboviria',\n",
       "  'Orthornavirae',\n",
       "  'Pisuviricota',\n",
       "  'Pisoniviricetes',\n",
       "  'Nidovirales',\n",
       "  'Cornidovirineae',\n",
       "  'Coronaviridae',\n",
       "  'Orthocoronavirinae',\n",
       "  'Betacoronavirus',\n",
       "  'Sarbecovirus'],\n",
       " 'references': [Reference(title='A new coronavirus associated with human respiratory disease in China', ...),\n",
       "  Reference(title='Programmed ribosomal frameshifting in decoding the SARS-CoV genome', ...),\n",
       "  Reference(title='The structure of a rigorously conserved RNA element within the SARS virus genome', ...),\n",
       "  Reference(title=\"A phylogenetically conserved hairpin-type 3' untranslated region pseudoknot functions in coronavirus RNA replication\", ...),\n",
       "  Reference(title='Direct Submission', ...),\n",
       "  Reference(title='Direct Submission', ...)],\n",
       " 'comment': \"REVIEWED REFSEQ: This record has been curated by NCBI staff. The\\nreference sequence is identical to MN908947.\\nOn Jan 17, 2020 this sequence version replaced NC_045512.1.\\nAnnotation was added using homology to SARSr-CoV NC_004718.3. ###\\nFormerly called 'Wuhan seafood market pneumonia virus.' If you have\\nquestions or suggestions, please email us at info@ncbi.nlm.nih.gov\\nand include the accession number NC_045512.### Protein structures\\ncan be found at\\nhttps://www.ncbi.nlm.nih.gov/structure/?term=sars-cov-2.### Find\\nall other Severe acute respiratory syndrome coronavirus 2\\n(SARS-CoV-2) sequences at\\nhttps://www.ncbi.nlm.nih.gov/genbank/sars-cov-2-seqs/\\nCOMPLETENESS: full length.\",\n",
       " 'structured_comment': OrderedDict([('Assembly-Data',\n",
       "               OrderedDict([('Assembly Method', 'Megahit v. V1.1.3'),\n",
       "                            ('Sequencing Technology', 'Illumina')]))])}"
      ]
     },
     "execution_count": 326,
     "metadata": {},
     "output_type": "execute_result"
    }
   ],
   "source": [
    "covid.annotations"
   ]
  },
  {
   "cell_type": "code",
   "execution_count": 327,
   "id": "compatible-status",
   "metadata": {},
   "outputs": [
    {
     "name": "stdout",
     "output_type": "stream",
     "text": [
      "NC_045512\n"
     ]
    }
   ],
   "source": [
    "print(covid.name)"
   ]
  },
  {
   "cell_type": "code",
   "execution_count": 328,
   "id": "closed-sodium",
   "metadata": {},
   "outputs": [
    {
     "name": "stdout",
     "output_type": "stream",
     "text": [
      "NC_045512.2\n"
     ]
    }
   ],
   "source": [
    "print(covid.id)"
   ]
  },
  {
   "cell_type": "code",
   "execution_count": 329,
   "id": "amended-indication",
   "metadata": {},
   "outputs": [
    {
     "name": "stdout",
     "output_type": "stream",
     "text": [
      "Severe acute respiratory syndrome coronavirus 2 isolate Wuhan-Hu-1, complete genome\n"
     ]
    }
   ],
   "source": [
    "print(covid.description)"
   ]
  },
  {
   "cell_type": "code",
   "execution_count": 330,
   "id": "opposed-seeker",
   "metadata": {},
   "outputs": [
    {
     "name": "stdout",
     "output_type": "stream",
     "text": [
      "29903\n"
     ]
    }
   ],
   "source": [
    "print(covid.length)"
   ]
  },
  {
   "cell_type": "markdown",
   "id": "level-classics",
   "metadata": {},
   "source": [
    "Since a genbank file only ever stores a single sequence, regardless of whether it is dsDNA or ssRNA or whatever, this is stored, along with the indices, in `numpy` arrays"
   ]
  },
  {
   "cell_type": "code",
   "execution_count": 331,
   "id": "double-grounds",
   "metadata": {},
   "outputs": [
    {
     "data": {
      "text/plain": [
       "array(['a', 't', 't', ..., 'a', 'a', 'a'], dtype='<U1')"
      ]
     },
     "execution_count": 331,
     "metadata": {},
     "output_type": "execute_result"
    }
   ],
   "source": [
    "covid.nucleotide_sequence"
   ]
  },
  {
   "cell_type": "code",
   "execution_count": 333,
   "id": "premium-electronics",
   "metadata": {},
   "outputs": [
    {
     "data": {
      "text/plain": [
       "array([    1,     2,     3, ..., 29901, 29902, 29903])"
      ]
     },
     "execution_count": 333,
     "metadata": {},
     "output_type": "execute_result"
    }
   ],
   "source": [
    "covid.nucleotide_index"
   ]
  },
  {
   "cell_type": "markdown",
   "id": "criminal-lawrence",
   "metadata": {},
   "source": [
    "This permits fancy-indexing in a Pythonic/numpy manner"
   ]
  },
  {
   "cell_type": "code",
   "execution_count": 336,
   "id": "distinct-heater",
   "metadata": {},
   "outputs": [
    {
     "data": {
      "text/plain": [
       "array(['t'], dtype='<U1')"
      ]
     },
     "execution_count": 336,
     "metadata": {},
     "output_type": "execute_result"
    }
   ],
   "source": [
    "covid.nucleotide_sequence[covid.nucleotide_index==1000]"
   ]
  },
  {
   "cell_type": "markdown",
   "id": "imperial-rough",
   "metadata": {},
   "source": [
    "The `Genome` class has some useful functions"
   ]
  },
  {
   "cell_type": "code",
   "execution_count": 337,
   "id": "welcome-butler",
   "metadata": {},
   "outputs": [
    {
     "data": {
      "text/plain": [
       "True"
      ]
     },
     "execution_count": 337,
     "metadata": {},
     "output_type": "execute_result"
    }
   ],
   "source": [
    "covid.contains_gene('S')"
   ]
  },
  {
   "cell_type": "markdown",
   "id": "sonic-uganda",
   "metadata": {},
   "source": [
    "This method tells us which genes/loci are involved at this position "
   ]
  },
  {
   "cell_type": "code",
   "execution_count": 338,
   "id": "atmospheric-queen",
   "metadata": {},
   "outputs": [
    {
     "data": {
      "text/plain": [
       "['ORF1ab', 'ORF1ab_2']"
      ]
     },
     "execution_count": 338,
     "metadata": {},
     "output_type": "execute_result"
    }
   ],
   "source": [
    "covid.at_index(1000)"
   ]
  },
  {
   "cell_type": "markdown",
   "id": "aware-temple",
   "metadata": {},
   "source": [
    "Then we can also save the genome as a `FASTA` file, which comes with some options (which have sensible defaults)"
   ]
  },
  {
   "cell_type": "code",
   "execution_count": 339,
   "id": "hollywood-firewall",
   "metadata": {},
   "outputs": [],
   "source": [
    "covid.save_fasta('covid.fasta',\\\n",
    "                 compression=False,\\\n",
    "                 chars_per_line=80,\\\n",
    "                 nucleotides_uppercase=False)"
   ]
  },
  {
   "cell_type": "markdown",
   "id": "yellow-publicity",
   "metadata": {},
   "source": [
    "Finally we could save the sequence as a compressed `npz` file which can be loaded into memory **much** faster than a FASTA file. "
   ]
  },
  {
   "cell_type": "code",
   "execution_count": 340,
   "id": "pressed-induction",
   "metadata": {},
   "outputs": [],
   "source": [
    "covid.save_sequence('covid.npz')"
   ]
  },
  {
   "cell_type": "code",
   "execution_count": 341,
   "id": "union-pathology",
   "metadata": {},
   "outputs": [
    {
     "data": {
      "text/plain": [
       "array(['a', 't', 't', ..., 'a', 'a', 'a'], dtype='<U1')"
      ]
     },
     "execution_count": 341,
     "metadata": {},
     "output_type": "execute_result"
    }
   ],
   "source": [
    "a=numpy.load('covid.npz')\n",
    "a['sequence']"
   ]
  },
  {
   "cell_type": "code",
   "execution_count": 342,
   "id": "official-fruit",
   "metadata": {},
   "outputs": [
    {
     "name": "stdout",
     "output_type": "stream",
     "text": [
      "109 µs ± 1.35 µs per loop (mean ± std. dev. of 7 runs, 10000 loops each)\n"
     ]
    }
   ],
   "source": [
    "%timeit numpy.load('covid.npz')"
   ]
  },
  {
   "cell_type": "markdown",
   "id": "lightweight-contribution",
   "metadata": {},
   "source": [
    "As a comparison, let's try loading the FASTA file with BioPython - on my machine the above is about 5x faster"
   ]
  },
  {
   "cell_type": "code",
   "execution_count": 343,
   "id": "unexpected-indication",
   "metadata": {},
   "outputs": [],
   "source": [
    "from Bio import SeqIO"
   ]
  },
  {
   "cell_type": "code",
   "execution_count": 344,
   "id": "modular-bearing",
   "metadata": {},
   "outputs": [
    {
     "name": "stdout",
     "output_type": "stream",
     "text": [
      "707 µs\n"
     ]
    }
   ],
   "source": [
    "start=time.time()\n",
    "for seq_record in SeqIO.parse(\"covid.fasta\", \"fasta\"):\n",
    "    covid_sequence=seq_record.seq\n",
    "print(\"%.1d µs\" % (1E6*(time.time()-start)))"
   ]
  },
  {
   "cell_type": "markdown",
   "id": "brief-salem",
   "metadata": {},
   "source": [
    "We can also save the whole object as a pickle which is useful for larger bacterial genomes which take minutes to instantiate"
   ]
  },
  {
   "cell_type": "code",
   "execution_count": 346,
   "id": "southern-impact",
   "metadata": {},
   "outputs": [
    {
     "ename": "PicklingError",
     "evalue": "Can't pickle <class 'gumpy.genome.Genome'>: it's not the same object as gumpy.genome.Genome",
     "output_type": "error",
     "traceback": [
      "\u001b[0;31m---------------------------------------------------------------------------\u001b[0m",
      "\u001b[0;31mPicklingError\u001b[0m                             Traceback (most recent call last)",
      "\u001b[0;32m<ipython-input-346-4d3e15b8c692>\u001b[0m in \u001b[0;36m<module>\u001b[0;34m\u001b[0m\n\u001b[0;32m----> 1\u001b[0;31m \u001b[0mcovid\u001b[0m\u001b[0;34m.\u001b[0m\u001b[0msave_pickle\u001b[0m\u001b[0;34m(\u001b[0m\u001b[0;34m'covid.pkl'\u001b[0m\u001b[0;34m)\u001b[0m\u001b[0;34m\u001b[0m\u001b[0;34m\u001b[0m\u001b[0m\n\u001b[0m",
      "\u001b[0;32m~/packages/gumpy/gumpy/genome.py\u001b[0m in \u001b[0;36msave_pickle\u001b[0;34m(self, filename, compression, compresslevel)\u001b[0m\n\u001b[1;32m    167\u001b[0m             \u001b[0mOUTPUT\u001b[0m\u001b[0;34m=\u001b[0m\u001b[0mopen\u001b[0m\u001b[0;34m(\u001b[0m\u001b[0mfilename\u001b[0m\u001b[0;34m,\u001b[0m\u001b[0;34m'wb'\u001b[0m\u001b[0;34m)\u001b[0m\u001b[0;34m\u001b[0m\u001b[0;34m\u001b[0m\u001b[0m\n\u001b[1;32m    168\u001b[0m \u001b[0;34m\u001b[0m\u001b[0m\n\u001b[0;32m--> 169\u001b[0;31m         \u001b[0mpickle\u001b[0m\u001b[0;34m.\u001b[0m\u001b[0mdump\u001b[0m\u001b[0;34m(\u001b[0m\u001b[0mself\u001b[0m\u001b[0;34m,\u001b[0m\u001b[0mOUTPUT\u001b[0m\u001b[0;34m)\u001b[0m\u001b[0;34m\u001b[0m\u001b[0;34m\u001b[0m\u001b[0m\n\u001b[0m\u001b[1;32m    170\u001b[0m         \u001b[0mOUTPUT\u001b[0m\u001b[0;34m.\u001b[0m\u001b[0mclose\u001b[0m\u001b[0;34m(\u001b[0m\u001b[0;34m)\u001b[0m\u001b[0;34m\u001b[0m\u001b[0;34m\u001b[0m\u001b[0m\n\u001b[1;32m    171\u001b[0m \u001b[0;34m\u001b[0m\u001b[0m\n",
      "\u001b[0;31mPicklingError\u001b[0m: Can't pickle <class 'gumpy.genome.Genome'>: it's not the same object as gumpy.genome.Genome"
     ]
    }
   ],
   "source": [
    "covid.save_pickle('covid.pkl')"
   ]
  },
  {
   "cell_type": "markdown",
   "id": "aboriginal-demonstration",
   "metadata": {},
   "source": [
    "The protein-coding genes, loci and RNA-coding genes are extracted from the GenBank file and held in a dictionary called `features` "
   ]
  },
  {
   "cell_type": "code",
   "execution_count": 351,
   "id": "freelance-alberta",
   "metadata": {},
   "outputs": [
    {
     "data": {
      "text/plain": [
       "S gene\n",
       "3829 nucleotides, codes for protein\n",
       "acgaa...gaaca\n",
       "-7 -6 -5 -4 -3 ...-5 -4 -3 -2 -1 \n",
       "MFVFL...LHYT!\n",
       "1 2 3 4 5 ...1270 1271 1272 1273 1274 "
      ]
     },
     "execution_count": 351,
     "metadata": {},
     "output_type": "execute_result"
    }
   ],
   "source": [
    "covid.genes['S']"
   ]
  },
  {
   "cell_type": "markdown",
   "id": "interim-arrival",
   "metadata": {},
   "source": [
    "Since the Covid is ssRNA, none of these genes can be on the reverse strand (because there is no reverse strand) so they all have `'reverse_complement'` marked `False`. The situation would be very different in *M. tuberculosis* where several important genes, notably *katG*, can be found on the reverse strand."
   ]
  },
  {
   "cell_type": "markdown",
   "id": "ongoing-transition",
   "metadata": {},
   "source": [
    "Now this is the complicated bit; genes can overlap (like the example above at `index==1000`. Hence if we want to create a `numpy` array as long as the genome that tells us which features(s) each nucleotide belongs to, we cannot (necessarily) use a simple 1D array. Instead, as we go through each `feature`, we have to see if it can be accommodated in the existing array. If it overlaps with a feature we've already added to the array, then we have to add an extra row to the numpy array."
   ]
  },
  {
   "cell_type": "markdown",
   "id": "registered-recommendation",
   "metadata": {},
   "source": [
    "For the SARS-CoV-2 genome, 2 rows is sufficient to allow for all overlapping features (genes) to be uniquely labelled."
   ]
  },
  {
   "cell_type": "code",
   "execution_count": 353,
   "id": "minimal-contrary",
   "metadata": {},
   "outputs": [
    {
     "data": {
      "text/plain": [
       "array([['', '', '', ..., '', '', ''],\n",
       "       ['', '', '', ..., '', '', '']], dtype='<U20')"
      ]
     },
     "execution_count": 353,
     "metadata": {},
     "output_type": "execute_result"
    }
   ],
   "source": [
    "covid.stacked_gene_name"
   ]
  },
  {
   "cell_type": "markdown",
   "id": "immediate-custom",
   "metadata": {},
   "source": [
    "There is a whole range of other similar `feature_foo` arrays that work in this way and are setup now to make identifying features (genes) easier later on. Note that cds = coding sequence i.e. does it encode amino acids (and thence a protein). If it does, then the sequence will form triplets (codons)."
   ]
  },
  {
   "cell_type": "code",
   "execution_count": 354,
   "id": "hourly-meaning",
   "metadata": {},
   "outputs": [
    {
     "data": {
      "text/plain": [
       "array([[False, False, False, ..., False, False, False],\n",
       "       [False, False, False, ..., False, False, False]])"
      ]
     },
     "execution_count": 354,
     "metadata": {},
     "output_type": "execute_result"
    }
   ],
   "source": [
    "covid.stacked_is_cds"
   ]
  },
  {
   "cell_type": "code",
   "execution_count": 355,
   "id": "necessary-native",
   "metadata": {},
   "outputs": [
    {
     "data": {
      "text/plain": [
       "array([[False, False, False, ..., False, False, False],\n",
       "       [False, False, False, ..., False, False, False]])"
      ]
     },
     "execution_count": 355,
     "metadata": {},
     "output_type": "execute_result"
    }
   ],
   "source": [
    "covid.stacked_is_reverse_complement"
   ]
  },
  {
   "cell_type": "code",
   "execution_count": 356,
   "id": "nasty-mention",
   "metadata": {},
   "outputs": [
    {
     "data": {
      "text/plain": [
       "array([[False, False, False, ..., False, False, False],\n",
       "       [False, False, False, ..., False, False, False]])"
      ]
     },
     "execution_count": 356,
     "metadata": {},
     "output_type": "execute_result"
    }
   ],
   "source": [
    "covid.stacked_is_promoter"
   ]
  },
  {
   "cell_type": "code",
   "execution_count": 357,
   "id": "devoted-tours",
   "metadata": {},
   "outputs": [
    {
     "data": {
      "text/plain": [
       "array([[0, 0, 0, ..., 0, 0, 0],\n",
       "       [0, 0, 0, ..., 0, 0, 0]])"
      ]
     },
     "execution_count": 357,
     "metadata": {},
     "output_type": "execute_result"
    }
   ],
   "source": [
    "covid.stacked_nucleotide_number"
   ]
  },
  {
   "cell_type": "code",
   "execution_count": 360,
   "id": "single-oxford",
   "metadata": {},
   "outputs": [
    {
     "data": {
      "text/plain": [
       "array(['a', 't', 'g', ..., 't', 'a', 'a'], dtype='<U1')"
      ]
     },
     "execution_count": 360,
     "metadata": {},
     "output_type": "execute_result"
    }
   ],
   "source": [
    "covid.stacked_nucleotide_sequence[covid.stacked_is_cds]"
   ]
  },
  {
   "cell_type": "markdown",
   "id": "variable-webster",
   "metadata": {},
   "source": [
    "As an example, let's build the nucleotide sequence of the Spike protein (whose gene is called *S*).\n",
    "\n",
    "Since in this case the `covid.feature_name` array has shape (2,29903) and `covid.sequence` has shape (29903,) we have to collapse the former so we can make a mask to fancy index the latter."
   ]
  },
  {
   "cell_type": "code",
   "execution_count": 361,
   "id": "decent-bulgaria",
   "metadata": {},
   "outputs": [
    {
     "data": {
      "text/plain": [
       "array(['a', 'c', 'g', ..., 't', 'a', 'a'], dtype='<U1')"
      ]
     },
     "execution_count": 361,
     "metadata": {},
     "output_type": "execute_result"
    }
   ],
   "source": [
    "mask=numpy.any(covid.stacked_gene_name=='S',axis=0)\n",
    "covid.nucleotide_sequence[mask]"
   ]
  },
  {
   "cell_type": "markdown",
   "id": "hawaiian-surface",
   "metadata": {},
   "source": [
    "Then we could simply make a string of the sequence of the *S* gene"
   ]
  },
  {
   "cell_type": "code",
   "execution_count": 362,
   "id": "billion-witch",
   "metadata": {},
   "outputs": [
    {
     "data": {
      "text/plain": [
       "'acgaacaatgtttgtttttcttgttttattgccactagtctctagtcagtgtgttaatcttacaaccagaactcaattaccccctgcatacactaattctttcacacgtggtgtttattaccctgacaaagttttcagatcctcagttttacattcaactcaggacttgttcttacctttcttttccaatgttacttggttccatgctatacatgtctctgggaccaatggtactaagaggtttgataaccctgtcctaccatttaatgatggtgtttattttgcttccactgagaagtctaacataataagaggctggatttttggtactactttagattcgaagacccagtccctacttattgttaataacgctactaatgttgttattaaagtctgtgaatttcaattttgtaatgatccatttttgggtgtttattaccacaaaaacaacaaaagttggatggaaagtgagttcagagtttattctagtgcgaataattgcacttttgaatatgtctctcagccttttcttatggaccttgaaggaaaacagggtaatttcaaaaatcttagggaatttgtgtttaagaatattgatggttattttaaaatatattctaagcacacgcctattaatttagtgcgtgatctccctcagggtttttcggctttagaaccattggtagatttgccaataggtattaacatcactaggtttcaaactttacttgctttacatagaagttatttgactcctggtgattcttcttcaggttggacagctggtgctgcagcttattatgtgggttatcttcaacctaggacttttctattaaaatataatgaaaatggaaccattacagatgctgtagactgtgcacttgaccctctctcagaaacaaagtgtacgttgaaatccttcactgtagaaaaaggaatctatcaaacttctaactttagagtccaaccaacagaatctattgttagatttcctaatattacaaacttgtgcccttttggtgaagtttttaacgccaccagatttgcatctgtttatgcttggaacaggaagagaatcagcaactgtgttgctgattattctgtcctatataattccgcatcattttccacttttaagtgttatggagtgtctcctactaaattaaatgatctctgctttactaatgtctatgcagattcatttgtaattagaggtgatgaagtcagacaaatcgctccagggcaaactggaaagattgctgattataattataaattaccagatgattttacaggctgcgttatagcttggaattctaacaatcttgattctaaggttggtggtaattataattacctgtatagattgtttaggaagtctaatctcaaaccttttgagagagatatttcaactgaaatctatcaggccggtagcacaccttgtaatggtgttgaaggttttaattgttactttcctttacaatcatatggtttccaacccactaatggtgttggttaccaaccatacagagtagtagtactttcttttgaacttctacatgcaccagcaactgtttgtggacctaaaaagtctactaatttggttaaaaacaaatgtgtcaatttcaacttcaatggtttaacaggcacaggtgttcttactgagtctaacaaaaagtttctgcctttccaacaatttggcagagacattgctgacactactgatgctgtccgtgatccacagacacttgagattcttgacattacaccatgttcttttggtggtgtcagtgttataacaccaggaacaaatacttctaaccaggttgctgttctttatcaggatgttaactgcacagaagtccctgttgctattcatgcagatcaacttactcctacttggcgtgtttattctacaggttctaatgtttttcaaacacgtgcaggctgtttaataggggctgaacatgtcaacaactcatatgagtgtgacatacccattggtgcaggtatatgcgctagttatcagactcagactaattctcctcggcgggcacgtagtgtagctagtcaatccatcattgcctacactatgtcacttggtgcagaaaattcagttgcttactctaataactctattgccatacccacaaattttactattagtgttaccacagaaattctaccagtgtctatgaccaagacatcagtagattgtacaatgtacatttgtggtgattcaactgaatgcagcaatcttttgttgcaatatggcagtttttgtacacaattaaaccgtgctttaactggaatagctgttgaacaagacaaaaacacccaagaagtttttgcacaagtcaaacaaatttacaaaacaccaccaattaaagattttggtggttttaatttttcacaaatattaccagatccatcaaaaccaagcaagaggtcatttattgaagatctacttttcaacaaagtgacacttgcagatgctggcttcatcaaacaatatggtgattgccttggtgatattgctgctagagacctcatttgtgcacaaaagtttaacggccttactgttttgccacctttgctcacagatgaaatgattgctcaatacacttctgcactgttagcgggtacaatcacttctggttggacctttggtgcaggtgctgcattacaaataccatttgctatgcaaatggcttataggtttaatggtattggagttacacagaatgttctctatgagaaccaaaaattgattgccaaccaatttaatagtgctattggcaaaattcaagactcactttcttccacagcaagtgcacttggaaaacttcaagatgtggtcaaccaaaatgcacaagctttaaacacgcttgttaaacaacttagctccaattttggtgcaatttcaagtgttttaaatgatatcctttcacgtcttgacaaagttgaggctgaagtgcaaattgataggttgatcacaggcagacttcaaagtttgcagacatatgtgactcaacaattaattagagctgcagaaatcagagcttctgctaatcttgctgctactaaaatgtcagagtgtgtacttggacaatcaaaaagagttgatttttgtggaaagggctatcatcttatgtccttccctcagtcagcacctcatggtgtagtcttcttgcatgtgacttatgtccctgcacaagaaaagaacttcacaactgctcctgccatttgtcatgatggaaaagcacactttcctcgtgaaggtgtctttgtttcaaatggcacacactggtttgtaacacaaaggaatttttatgaaccacaaatcattactacagacaacacatttgtgtctggtaactgtgatgttgtaataggaattgtcaacaacacagtttatgatcctttgcaacctgaattagactcattcaaggaggagttagataaatattttaagaatcatacatcaccagatgttgatttaggtgacatctctggcattaatgcttcagttgtaaacattcaaaaagaaattgaccgcctcaatgaggttgccaagaatttaaatgaatctctcatcgatctccaagaacttggaaagtatgagcagtatataaaatggccatggtacatttggctaggttttatagctggcttgattgccatagtaatggtgacaattatgctttgctgtatgaccagttgctgtagttgtctcaagggctgttgttcttgtggatcctgctgcaaatttgatgaagacgactctgagccagtgctcaaaggagtcaaattacattacacataa'"
      ]
     },
     "execution_count": 362,
     "metadata": {},
     "output_type": "execute_result"
    }
   ],
   "source": [
    "''.join(i for i in covid.nucleotide_sequence[mask])"
   ]
  },
  {
   "cell_type": "markdown",
   "id": "viral-model",
   "metadata": {},
   "source": [
    "This is fine, but we really want to expose a gene/protein-centric view so it makes sense for the `Genome` object to hold a large number of `Gene` objects"
   ]
  },
  {
   "cell_type": "code",
   "execution_count": 364,
   "id": "satellite-height",
   "metadata": {},
   "outputs": [],
   "source": [
    "sample=copy.deepcopy(covid)\n",
    "sample.nucleotide_sequence[sample.nucleotide_index==4]='t'\n",
    "sample.is_indel[sample.nucleotide_index==100]=True\n",
    "sample.indel_length[sample.nucleotide_index==100]=3\n",
    "sample.nucleotide_sequence[sample.nucleotide_index==22000]='g'\n",
    "sample.is_indel[sample.nucleotide_index==22100]=True\n",
    "sample.indel_length[sample.nucleotide_index==22100]=-5\n",
    "sample._recreate_genes()"
   ]
  },
  {
   "cell_type": "markdown",
   "id": "scheduled-austin",
   "metadata": {},
   "source": [
    "The main design principle for the `Genome` object is to overload `__sub__` so it returns a list of genome indices where this some kind of difference (e.g. "
   ]
  },
  {
   "cell_type": "code",
   "execution_count": 366,
   "id": "infinite-division",
   "metadata": {},
   "outputs": [
    {
     "data": {
      "text/plain": [
       "array([    4,   100, 22000, 22100])"
      ]
     },
     "execution_count": 366,
     "metadata": {},
     "output_type": "execute_result"
    }
   ],
   "source": [
    "sample-covid"
   ]
  },
  {
   "cell_type": "code",
   "execution_count": 367,
   "id": "prime-netscape",
   "metadata": {},
   "outputs": [
    {
     "data": {
      "text/plain": [
       "S gene\n",
       "3829 nucleotides, codes for protein\n",
       "acgaa...gaaca\n",
       "-7 -6 -5 -4 -3 ...-5 -4 -3 -2 -1 \n",
       "MFVFL...LHYT!\n",
       "1 2 3 4 5 ...1270 1271 1272 1273 1274 "
      ]
     },
     "execution_count": 367,
     "metadata": {},
     "output_type": "execute_result"
    }
   ],
   "source": [
    "covid.genes['S']"
   ]
  },
  {
   "cell_type": "code",
   "execution_count": 368,
   "id": "increased-willow",
   "metadata": {},
   "outputs": [
    {
     "data": {
      "text/plain": [
       "['H146Q', '538_indel']"
      ]
     },
     "execution_count": 368,
     "metadata": {},
     "output_type": "execute_result"
    }
   ],
   "source": [
    "sample.genes['S'].list_mutations_wrt(covid.genes['S'])"
   ]
  },
  {
   "cell_type": "code",
   "execution_count": 369,
   "id": "surprising-canon",
   "metadata": {},
   "outputs": [
    {
     "data": {
      "text/plain": [
       "array([438, 538])"
      ]
     },
     "execution_count": 369,
     "metadata": {},
     "output_type": "execute_result"
    }
   ],
   "source": [
    "sample.genes['S']-covid.genes['S']"
   ]
  },
  {
   "cell_type": "code",
   "execution_count": null,
   "id": "broadband-requirement",
   "metadata": {},
   "outputs": [],
   "source": [
    "sample.genes['S'].amino_acid_sequence"
   ]
  },
  {
   "cell_type": "code",
   "execution_count": null,
   "id": "useful-factor",
   "metadata": {},
   "outputs": [],
   "source": []
  }
 ],
 "metadata": {
  "kernelspec": {
   "display_name": "Python 3",
   "language": "python",
   "name": "python3"
  },
  "language_info": {
   "codemirror_mode": {
    "name": "ipython",
    "version": 3
   },
   "file_extension": ".py",
   "mimetype": "text/x-python",
   "name": "python",
   "nbconvert_exporter": "python",
   "pygments_lexer": "ipython3",
   "version": "3.8.8"
  }
 },
 "nbformat": 4,
 "nbformat_minor": 5
}
